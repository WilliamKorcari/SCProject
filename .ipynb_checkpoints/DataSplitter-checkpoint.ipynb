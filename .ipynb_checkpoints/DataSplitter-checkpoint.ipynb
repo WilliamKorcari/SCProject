{
 "cells": [
  {
   "cell_type": "code",
   "execution_count": 33,
   "metadata": {},
   "outputs": [
    {
     "name": "stdout",
     "output_type": "stream",
     "text": [
      "/home/william/SCProject\r\n"
     ]
    }
   ],
   "source": [
    "!pwd"
   ]
  },
  {
   "cell_type": "code",
   "execution_count": 1,
   "metadata": {},
   "outputs": [],
   "source": [
    "import csv"
   ]
  },
  {
   "cell_type": "code",
   "execution_count": 13,
   "metadata": {},
   "outputs": [
    {
     "data": {
      "text/plain": [
       "'/home/william/SCProject/Datasets/fear.csv'"
      ]
     },
     "execution_count": 13,
     "metadata": {},
     "output_type": "execute_result"
    }
   ],
   "source": [
    "out_files = ['/home/william/SCProject/Datasets/anger.csv',\n",
    "             '/home/william/SCProject/Datasets/disgust.csv',\n",
    "             '/home/william/SCProject/Datasets/fear.csv',\n",
    "             '/home/william/SCProject/Datasets/happy.csv',\n",
    "             '/home/william/SCProject/Datasets/sad.csv',\n",
    "             '/home/william/SCProject/Datasets/surprise.csv',\n",
    "             '/home/william/SCProject/Datasets/neutral.csv']\n",
    "out_files[2]\n"
   ]
  },
  {
   "cell_type": "code",
   "execution_count": 29,
   "metadata": {},
   "outputs": [
    {
     "data": {
      "text/html": [
       "<div>\n",
       "<style scoped>\n",
       "    .dataframe tbody tr th:only-of-type {\n",
       "        vertical-align: middle;\n",
       "    }\n",
       "\n",
       "    .dataframe tbody tr th {\n",
       "        vertical-align: top;\n",
       "    }\n",
       "\n",
       "    .dataframe thead th {\n",
       "        text-align: right;\n",
       "    }\n",
       "</style>\n",
       "<table border=\"1\" class=\"dataframe\">\n",
       "  <thead>\n",
       "    <tr style=\"text-align: right;\">\n",
       "      <th></th>\n",
       "      <th>emotion</th>\n",
       "      <th>pixels</th>\n",
       "      <th>Usage</th>\n",
       "    </tr>\n",
       "  </thead>\n",
       "  <tbody>\n",
       "    <tr>\n",
       "      <th>0</th>\n",
       "      <td>0</td>\n",
       "      <td>70 80 82 72 58 58 60 63 54 58 60 48 89 115 121...</td>\n",
       "      <td>Training</td>\n",
       "    </tr>\n",
       "    <tr>\n",
       "      <th>1</th>\n",
       "      <td>0</td>\n",
       "      <td>151 150 147 155 148 133 111 140 170 174 182 15...</td>\n",
       "      <td>Training</td>\n",
       "    </tr>\n",
       "    <tr>\n",
       "      <th>2</th>\n",
       "      <td>0</td>\n",
       "      <td>30 24 21 23 25 25 49 67 84 103 120 125 130 139...</td>\n",
       "      <td>Training</td>\n",
       "    </tr>\n",
       "    <tr>\n",
       "      <th>3</th>\n",
       "      <td>0</td>\n",
       "      <td>123 125 124 142 209 226 234 236 231 232 235 22...</td>\n",
       "      <td>Training</td>\n",
       "    </tr>\n",
       "    <tr>\n",
       "      <th>4</th>\n",
       "      <td>0</td>\n",
       "      <td>8 9 14 21 26 32 37 46 52 62 72 70 71 73 76 83 ...</td>\n",
       "      <td>Training</td>\n",
       "    </tr>\n",
       "  </tbody>\n",
       "</table>\n",
       "</div>"
      ],
      "text/plain": [
       "   emotion                                             pixels     Usage\n",
       "0        0  70 80 82 72 58 58 60 63 54 58 60 48 89 115 121...  Training\n",
       "1        0  151 150 147 155 148 133 111 140 170 174 182 15...  Training\n",
       "2        0  30 24 21 23 25 25 49 67 84 103 120 125 130 139...  Training\n",
       "3        0  123 125 124 142 209 226 234 236 231 232 235 22...  Training\n",
       "4        0  8 9 14 21 26 32 37 46 52 62 72 70 71 73 76 83 ...  Training"
      ]
     },
     "execution_count": 29,
     "metadata": {},
     "output_type": "execute_result"
    }
   ],
   "source": [
    "import pandas as pd\n",
    "test = pd.read_csv(out_files[0])\n",
    "a = test.head()\n",
    "a"
   ]
  },
  {
   "cell_type": "code",
   "execution_count": 27,
   "metadata": {},
   "outputs": [],
   "source": [
    "for element in range(len(out_files)):\n",
    "    with open('/home/william/SCProject/fer2013/fer2013.csv', 'r') as f,open(out_files[element], 'w') as f_out:\n",
    "         reader = csv.DictReader(f)\n",
    "         writer = csv.writer(f_out)\n",
    "         writer.writerow(reader.fieldnames)\n",
    "\n",
    "         for row in reader:\n",
    "             if row[\"emotion\"] == str(element):\n",
    "                values = [row[field] for field in reader.fieldnames]\n",
    "                writer.writerow(values)"
   ]
  },
  {
   "cell_type": "code",
   "execution_count": 34,
   "metadata": {},
   "outputs": [],
   "source": [
    "for element in range(len(out_files)):\n",
    "    \n",
    "    in_file =  open(out_files[element], 'r') \n",
    "    f_train = open( out_files[element]+'_train.csv', 'w')\n",
    "    f_test = open( out_files[element] + '_test.csv', 'w')\n",
    "    \n",
    "    reader = csv.DictReader(in_file)\n",
    "    writer_train = csv.writer(f_train)\n",
    "    writer_test = csv.writer(f_test)\n",
    "    \n",
    "    writer_train.writerow(reader.fieldnames)\n",
    "    writer_test.writerow(reader.fieldnames)\n",
    "    \n",
    "    for row in reader:\n",
    "        if row['Usage'] == 'Training':\n",
    "            val = [row[field] for field in reader.fieldnames]\n",
    "            writer_train.writerow(val)\n",
    "        else: \n",
    "            val = [row[field] for field in reader.fieldnames]\n",
    "            writer_test.writerow(val)"
   ]
  },
  {
   "cell_type": "code",
   "execution_count": null,
   "metadata": {},
   "outputs": [],
   "source": []
  }
 ],
 "metadata": {
  "kernelspec": {
   "display_name": "Python 2",
   "language": "python",
   "name": "python2"
  },
  "language_info": {
   "codemirror_mode": {
    "name": "ipython",
    "version": 3
   },
   "file_extension": ".py",
   "mimetype": "text/x-python",
   "name": "python",
   "nbconvert_exporter": "python",
   "pygments_lexer": "ipython3",
   "version": "3.7.3"
  }
 },
 "nbformat": 4,
 "nbformat_minor": 2
}
